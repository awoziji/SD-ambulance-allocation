{
 "cells": [
  {
   "cell_type": "markdown",
   "metadata": {},
   "source": [
    "# Import Packages and Read Data"
   ]
  },
  {
   "cell_type": "code",
   "execution_count": 1,
   "metadata": {},
   "outputs": [],
   "source": [
    "import numpy as np\n",
    "import scipy as sp\n",
    "import pandas as pd\n",
    "import datetime\n",
    "import matplotlib.pyplot as plt"
   ]
  },
  {
   "cell_type": "code",
   "execution_count": 2,
   "metadata": {},
   "outputs": [],
   "source": [
    "# kNN Scikit-learn imports\n",
    "from sklearn.neighbors import KNeighborsClassifier, KNeighborsRegressor\n",
    "from sklearn import neighbors, datasets\n",
    "from matplotlib.colors import ListedColormap"
   ]
  },
  {
   "cell_type": "code",
   "execution_count": 3,
   "metadata": {},
   "outputs": [],
   "source": [
    "ambulance_csv = '../raw_dispatch_merged_with_comments.csv'\n",
    "\n",
    "dtypes = {\n",
    "    'Master_Incident_Number': 'str',\n",
    "    'Response_Date': 'str',\n",
    "    'Call_Category': 'str',\n",
    "    'Time_PhonePickUp': 'str',\n",
    "    'Nature/Problem': 'str',\n",
    "    'Division': 'str',\n",
    "    'Determinant/Medical Code': 'str',\n",
    "    'Latitude_Decimal': 'float',\n",
    "    'Longitude_Decimal': 'float',\n",
    "    'MethodOfCallRcvd': 'str',\n",
    "    'Call_Back_Phone': 'str',\n",
    "    'Caller_Type': 'str',\n",
    "    'Caller_Name': 'str',\n",
    "    'Caller_Location_Name': 'str',\n",
    "    'Dispatch Comment': 'str',\n",
    "    'Response_Number': 'str',\n",
    "    'Unit ID': 'str',\n",
    "    'Time_Assigned': 'str',\n",
    "    'Time_Enroute': 'str',\n",
    "    'Time_Staged': 'str',\n",
    "    'Time_ArrivedAtScene': 'str',\n",
    "    'Transport_Mode': 'str',\n",
    "    'Time_Depart_Scene': 'str',\n",
    "    'Time_Arrive_Destination': 'str',\n",
    "    'Time_Call_Cleared': 'str',\n",
    "    'Turnout Time': 'str',\n",
    "    'Drive Time': 'str',\n",
    "    'Unit Response Time': 'str',\n",
    "    'Total Response Time': 'str',\n",
    "    'Scene Time': 'str',\n",
    "    'Transport Time': 'str',\n",
    "}\n",
    "\n",
    "parse_dates = ['Response_Date', 'Time_PhonePickUp', 'Time_Assigned', 'Time_Enroute', 'Time_Staged', \\\n",
    "               'Time_ArrivedAtScene', 'Time_Depart_Scene', 'Time_Arrive_Destination', 'Time_Call_Cleared', \\\n",
    "               'Turnout Time', 'Drive Time', 'Unit Response Time', 'Total Response Time', 'Scene Time', \\\n",
    "               'Transport Time']"
   ]
  },
  {
   "cell_type": "code",
   "execution_count": 4,
   "metadata": {},
   "outputs": [],
   "source": [
    "data_dispatch = pd.read_csv(ambulance_csv, dtype=dtypes, parse_dates=parse_dates)"
   ]
  },
  {
   "cell_type": "markdown",
   "metadata": {},
   "source": [
    "# Identidy Fire Districts by $k$-NN"
   ]
  },
  {
   "cell_type": "code",
   "execution_count": 5,
   "metadata": {},
   "outputs": [],
   "source": [
    "old_zone = data_dispatch[data_dispatch['Response_Date'].dt.date < pd.Timestamp(2015,10,1).date()]\n",
    "new_zone = data_dispatch[data_dispatch['Response_Date'].dt.date >= pd.Timestamp(2015,10,1).date()]"
   ]
  },
  {
   "cell_type": "code",
   "execution_count": 6,
   "metadata": {},
   "outputs": [],
   "source": [
    "old_geoloc_set = set(zip(old_zone['Latitude_Decimal'],old_zone['Longitude_Decimal']))\n",
    "new_geoloc_set = set(zip(new_zone['Latitude_Decimal'],new_zone['Longitude_Decimal']))"
   ]
  },
  {
   "cell_type": "code",
   "execution_count": 7,
   "metadata": {},
   "outputs": [
    {
     "name": "stdout",
     "output_type": "stream",
     "text": [
      "344224 110054\n"
     ]
    }
   ],
   "source": [
    "print(len(new_zone[new_zone['Latitude_Decimal'] > 0]),len(old_zone[old_zone['Latitude_Decimal'] > 0]))"
   ]
  },
  {
   "cell_type": "code",
   "execution_count": 8,
   "metadata": {},
   "outputs": [],
   "source": [
    "new_zone = new_zone[new_zone['Latitude_Decimal'] > 0]"
   ]
  },
  {
   "cell_type": "code",
   "execution_count": 9,
   "metadata": {},
   "outputs": [],
   "source": [
    "# Setup Training and Test data for Scikit-learn\n",
    "X = new_zone[['Latitude_Decimal','Longitude_Decimal']]\n",
    "labels, uniques = pd.factorize(new_zone['Division'], sort=True)\n",
    "neigh = KNeighborsClassifier(n_neighbors=3, weights='distance')\n",
    "neigh.fit(X, labels)\n",
    "labels, uniques = pd.factorize(new_zone['Division'], sort=True)\n",
    "division_new = neigh.predict(old_zone[['Latitude_Decimal','Longitude_Decimal']])\n",
    "neigh = KNeighborsRegressor(n_neighbors=3, weights = 'distance')\n",
    "neigh.fit(X, labels)\n",
    "division_new_reg = neigh.predict(old_zone[['Latitude_Decimal','Longitude_Decimal']])"
   ]
  },
  {
   "cell_type": "code",
   "execution_count": 10,
   "metadata": {},
   "outputs": [
    {
     "data": {
      "text/plain": [
       "Text(0.5,1,\"3-Class classification (k = 3, weights = 'distance')\")"
      ]
     },
     "execution_count": 10,
     "metadata": {},
     "output_type": "execute_result"
    },
    {
     "data": {
      "image/png": "[encoded data removed]",
      "text/plain": [
       "<Figure size 720x720 with 1 Axes>"
      ]
     },
     "metadata": {},
     "output_type": "display_data"
    }
   ],
   "source": [
    "# Decision boundary drawing\n",
    "n_neighbors = 3\n",
    "weights = 'distance'\n",
    "y = labels\n",
    "h = .001  # step size in the mesh\n",
    "\n",
    "# Create color maps\n",
    "cmap_light = ListedColormap(['black', 'red', 'yellow', 'green', 'cyan', 'blue', 'magenta', 'grey', 'brown'])\n",
    "cmap_bold = ListedColormap(['#FF0000', '#00FF00', '#0000FF'])\n",
    "\n",
    "# we create an instance of Neighbours Classifier and fit the data.\n",
    "clf = neighbors.KNeighborsClassifier(n_neighbors, weights=weights)\n",
    "clf.fit(X, y)\n",
    "\n",
    "# Plot the decision boundary. For that, we will assign a color to each\n",
    "# point in the mesh [x_min, x_max]x[y_min, y_max].\n",
    "x_min, x_max = X.values[:, 0].min() - 0.1, X.values[:, 0].max() + 0.1\n",
    "y_min, y_max = X.values[:, 1].min() - 0.1, X.values[:, 1].max() + 0.1\n",
    "xx, yy = np.meshgrid(np.arange(x_min, x_max, h), np.arange(y_min, y_max, h))\n",
    "Z = clf.predict(np.c_[xx.ravel(), yy.ravel()])\n",
    "\n",
    "# Put the result into a color plot\n",
    "Z = Z.reshape(xx.shape)\n",
    "plt.figure(figsize=(10, 10))\n",
    "plt.pcolormesh(yy, xx, Z, cmap=cmap_light)\n",
    "\n",
    "# Plot also the training points\n",
    "# plt.scatter(X.values[:, 0], X[:, 1], c=y, cmap=cmap_bold, edgecolor='k', s=20)\n",
    "plt.ylim(xx.min(), xx.max())\n",
    "plt.xlim(yy.min(), yy.max())\n",
    "plt.title(\"3-Class classification (k = %i, weights = '%s')\" % (n_neighbors, weights))"
   ]
  },
  {
   "cell_type": "code",
   "execution_count": 11,
   "metadata": {},
   "outputs": [
    {
     "data": {
      "text/plain": [
       "Index(['Chula Vista', 'Coronado', 'County', 'Del Mar', 'Imperial Beach',\n",
       "       'La Mesa', 'Lemon Grove', 'Rancho Santa Fe', 'San Miguel',\n",
       "       'Solana Beach', 'Zone 1', 'Zone 2', 'Zone 3', 'Zone 4', 'Zone 5',\n",
       "       'Zone 6', 'Zone 7', 'Zone 8'],\n",
       "      dtype='object')"
      ]
     },
     "execution_count": 11,
     "metadata": {},
     "output_type": "execute_result"
    }
   ],
   "source": [
    "new_labels, uniques = pd.factorize(data_dispatch[data_dispatch['Response_Date'].dt.date >= pd.Timestamp(2015,10,1).date()]['Division'], sort=True)\n",
    "uniques"
   ]
  },
  {
   "cell_type": "code",
   "execution_count": 12,
   "metadata": {},
   "outputs": [],
   "source": [
    "# label for 'Zone 1' was 10 above, set it to 0 and everything before 'Zone 1' as -1\n",
    "new_labels = [max(i-10, -1) for i in new_labels]"
   ]
  },
  {
   "cell_type": "code",
   "execution_count": 13,
   "metadata": {},
   "outputs": [],
   "source": [
    "data_dispatch['New_Zone'] = np.append(division_new, new_labels)\n",
    "other_zones = ['Chula Vista', 'Coronado', 'County', 'Del Mar', 'Imperial Beach', 'La Mesa', 'Lemon Grove', \n",
    "               'National City', 'Poway', 'Rancho Santa Fe', 'San Miguel', 'San Pasqual', 'Solana Beach']\n",
    "data_dispatch.loc[data_dispatch['Division'].isin(other_zones), 'New_Zone'] = -1"
   ]
  },
  {
   "cell_type": "code",
   "execution_count": 14,
   "metadata": {},
   "outputs": [
    {
     "data": {
      "text/plain": [
       "New_Zone  Division       \n",
       "-1        Chula Vista            5\n",
       "          Coronado               1\n",
       "          County               151\n",
       "          Del Mar                1\n",
       "          Imperial Beach         2\n",
       "          La Mesa               26\n",
       "          Lemon Grove           17\n",
       "          National City          1\n",
       "          Poway                  1\n",
       "          Rancho Santa Fe        6\n",
       "          San Miguel             1\n",
       "          San Pasqual            4\n",
       "          Solana Beach           1\n",
       "          Zone 3                 3\n",
       "          Zone 4                 2\n",
       " 0        Zone 1             72719\n",
       "          Zone 2             21751\n",
       "          Zone 3                 5\n",
       " 1        Zone 2             62507\n",
       "          Zone 3              5005\n",
       "          Zone 4              6909\n",
       " 2        Zone 2              6884\n",
       "          Zone 3             40872\n",
       "          Zone 4              6714\n",
       " 3        Zone 2                 3\n",
       "          Zone 3             14474\n",
       "          Zone 4             56392\n",
       " 4        Zone 4              7993\n",
       "          Zone 5             24733\n",
       " 5        Zone 2              3586\n",
       "          Zone 3              9191\n",
       "          Zone 6             39676\n",
       " 6        Zone 4              8599\n",
       "          Zone 7             27264\n",
       " 7        Zone 1              9522\n",
       "          Zone 2                10\n",
       "          Zone 3                27\n",
       "          Zone 4                14\n",
       "          Zone 8             29317\n",
       "dtype: int64"
      ]
     },
     "execution_count": 14,
     "metadata": {},
     "output_type": "execute_result"
    }
   ],
   "source": [
    "# Summary of the Zone mappings 'Zone 1'~'Zone 8' = 0~7, -1 for others\n",
    "data_dispatch[['New_Zone','Division']].groupby(['New_Zone','Division']).size()"
   ]
  },
  {
   "cell_type": "code",
   "execution_count": null,
   "metadata": {},
   "outputs": [],
   "source": []
  },
  {
   "cell_type": "code",
   "execution_count": null,
   "metadata": {},
   "outputs": [],
   "source": []
  },
  {
   "cell_type": "code",
   "execution_count": null,
   "metadata": {},
   "outputs": [],
   "source": []
  },
  {
   "cell_type": "markdown",
   "metadata": {},
   "source": [
    "# Identify Types of Dispatch"
   ]
  },
  {
   "cell_type": "code",
   "execution_count": 15,
   "metadata": {},
   "outputs": [],
   "source": [
    "# Ambulance Canceled (0): 'Unit Response Time' is empty\n",
    "# Clear-at-Scene (1): 'Time_Arrive_Destination' is empty\n",
    "# Transport (2): all timestamps are available\n",
    "data_dispatch['Mission_Type'] = [0 for i in range(len(data_dispatch))]\n",
    "data_dispatch.loc[data_dispatch['Unit Response Time'].notnull() & data_dispatch['Time_Arrive_Destination'].isnull(), 'Mission_Type'] = 1\n",
    "data_dispatch.loc[data_dispatch['Time_Arrive_Destination'].notnull(), 'Mission_Type'] = 2"
   ]
  },
  {
   "cell_type": "code",
   "execution_count": 16,
   "metadata": {},
   "outputs": [
    {
     "name": "stdout",
     "output_type": "stream",
     "text": [
      "No. Transported incidents: 80687\n"
     ]
    }
   ],
   "source": [
    "print('No. Transported incidents:', len(data_dispatch[data_dispatch['Mission_Type'] == 0]))"
   ]
  },
  {
   "cell_type": "code",
   "execution_count": 17,
   "metadata": {},
   "outputs": [
    {
     "name": "stdout",
     "output_type": "stream",
     "text": [
      "No. Transported incidents: 91582\n"
     ]
    }
   ],
   "source": [
    "print('No. Transported incidents:', len(data_dispatch[data_dispatch['Mission_Type'] == 1]))"
   ]
  },
  {
   "cell_type": "code",
   "execution_count": 18,
   "metadata": {},
   "outputs": [
    {
     "name": "stdout",
     "output_type": "stream",
     "text": [
      "No. Transported incidents: 282325\n"
     ]
    }
   ],
   "source": [
    "print('No. Transported incidents:', len(data_dispatch[data_dispatch['Mission_Type'] == 2]))"
   ]
  },
  {
   "cell_type": "code",
   "execution_count": null,
   "metadata": {},
   "outputs": [],
   "source": []
  },
  {
   "cell_type": "code",
   "execution_count": null,
   "metadata": {},
   "outputs": [],
   "source": []
  },
  {
   "cell_type": "code",
   "execution_count": null,
   "metadata": {},
   "outputs": [],
   "source": []
  },
  {
   "cell_type": "markdown",
   "metadata": {},
   "source": [
    "# Write to File"
   ]
  },
  {
   "cell_type": "code",
   "execution_count": 19,
   "metadata": {},
   "outputs": [],
   "source": [
    "# Extract the required information to a new data frame\n",
    "data_zones = data_dispatch[['Master_Incident_Number', 'New_Zone', 'Mission_Type', 'Response_Date']].copy()"
   ]
  },
  {
   "cell_type": "code",
   "execution_count": 20,
   "metadata": {},
   "outputs": [],
   "source": [
    "data_zones.to_csv(\"incident_newzone.csv\", index=False, float_format='%.6f')"
   ]
  },
  {
   "cell_type": "code",
   "execution_count": null,
   "metadata": {},
   "outputs": [],
   "source": []
  }
 ],
 "metadata": {
  "kernelspec": {
   "display_name": "Python 3",
   "language": "python",
   "name": "python3"
  },
  "language_info": {
   "codemirror_mode": {
    "name": "ipython",
    "version": 3
   },
   "file_extension": ".py",
   "mimetype": "text/x-python",
   "name": "python",
   "nbconvert_exporter": "python",
   "pygments_lexer": "ipython3",
   "version": "3.5.3"
  }
 },
 "nbformat": 4,
 "nbformat_minor": 2
}
